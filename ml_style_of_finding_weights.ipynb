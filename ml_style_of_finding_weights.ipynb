{
  "nbformat": 4,
  "nbformat_minor": 0,
  "metadata": {
    "colab": {
      "provenance": [],
      "include_colab_link": true
    },
    "kernelspec": {
      "name": "python3",
      "display_name": "Python 3"
    },
    "language_info": {
      "name": "python"
    }
  },
  "cells": [
    {
      "cell_type": "markdown",
      "metadata": {
        "id": "view-in-github",
        "colab_type": "text"
      },
      "source": [
        "<a href=\"https://colab.research.google.com/github/GundadiAravind/machine-learning/blob/main/ml_style_of_finding_weights.ipynb\" target=\"_parent\"><img src=\"https://colab.research.google.com/assets/colab-badge.svg\" alt=\"Open In Colab\"/></a>"
      ]
    },
    {
      "cell_type": "code",
      "execution_count": null,
      "metadata": {
        "id": "VDNO6IhQzyP7"
      },
      "outputs": [],
      "source": [
        "import numpy as np"
      ]
    },
    {
      "cell_type": "code",
      "source": [
        "age = [20, 30, 25, 40, 27, 28, 22, 24, 31]\n",
        "len(age)"
      ],
      "metadata": {
        "colab": {
          "base_uri": "https://localhost:8080/"
        },
        "id": "-4zIcmVrz5sP",
        "outputId": "8816b0de-cef5-49ed-8638-71f619b27a8d"
      },
      "execution_count": null,
      "outputs": [
        {
          "output_type": "execute_result",
          "data": {
            "text/plain": [
              "9"
            ]
          },
          "metadata": {},
          "execution_count": 2
        }
      ]
    },
    {
      "cell_type": "code",
      "source": [
        "exp = [0, 5, 2, 10, 4, 3.5, 1, 2, 6]\n",
        "len(exp)"
      ],
      "metadata": {
        "colab": {
          "base_uri": "https://localhost:8080/"
        },
        "id": "DdomFRr10EAQ",
        "outputId": "49efadda-f6c7-4f69-efed-741096f30153"
      },
      "execution_count": null,
      "outputs": [
        {
          "output_type": "execute_result",
          "data": {
            "text/plain": [
              "9"
            ]
          },
          "metadata": {},
          "execution_count": 3
        }
      ]
    },
    {
      "cell_type": "code",
      "source": [
        "age = np.array(age)\n",
        "exp = np.array(exp)\n",
        "income = age * 2 + exp * 3 + 5\n",
        "income"
      ],
      "metadata": {
        "colab": {
          "base_uri": "https://localhost:8080/"
        },
        "id": "fsB3i_zX0ONQ",
        "outputId": "414fb745-7d0a-4e37-9b16-65842c51716e"
      },
      "execution_count": null,
      "outputs": [
        {
          "output_type": "execute_result",
          "data": {
            "text/plain": [
              "array([ 45. ,  80. ,  61. , 115. ,  71. ,  71.5,  52. ,  59. ,  85. ])"
            ]
          },
          "metadata": {},
          "execution_count": 4
        }
      ]
    },
    {
      "cell_type": "code",
      "source": [
        "np.c_[age, exp, income]"
      ],
      "metadata": {
        "colab": {
          "base_uri": "https://localhost:8080/"
        },
        "id": "HvSsvCXc0cWs",
        "outputId": "35ee94c5-12d8-42f4-981f-b24d4230d520"
      },
      "execution_count": null,
      "outputs": [
        {
          "output_type": "execute_result",
          "data": {
            "text/plain": [
              "array([[ 20. ,   0. ,  45. ],\n",
              "       [ 30. ,   5. ,  80. ],\n",
              "       [ 25. ,   2. ,  61. ],\n",
              "       [ 40. ,  10. , 115. ],\n",
              "       [ 27. ,   4. ,  71. ],\n",
              "       [ 28. ,   3.5,  71.5],\n",
              "       [ 22. ,   1. ,  52. ],\n",
              "       [ 24. ,   2. ,  59. ],\n",
              "       [ 31. ,   6. ,  85. ]])"
            ]
          },
          "metadata": {},
          "execution_count": 5
        }
      ]
    },
    {
      "cell_type": "code",
      "source": [
        "ones = np.ones(len(age))\n",
        "ones"
      ],
      "metadata": {
        "colab": {
          "base_uri": "https://localhost:8080/"
        },
        "id": "5S9zeSwX0kO2",
        "outputId": "53f6868e-af10-4e96-8e9b-a3de87b4d263"
      },
      "execution_count": null,
      "outputs": [
        {
          "output_type": "execute_result",
          "data": {
            "text/plain": [
              "array([1., 1., 1., 1., 1., 1., 1., 1., 1.])"
            ]
          },
          "metadata": {},
          "execution_count": 6
        }
      ]
    },
    {
      "cell_type": "code",
      "source": [
        "# step1 : feature matrix\n",
        "X = np.c_[ones, age, exp]\n",
        "X"
      ],
      "metadata": {
        "colab": {
          "base_uri": "https://localhost:8080/"
        },
        "id": "tKYjcp2P03Nm",
        "outputId": "68adaf58-c584-4f5c-f360-8830f2608279"
      },
      "execution_count": null,
      "outputs": [
        {
          "output_type": "execute_result",
          "data": {
            "text/plain": [
              "array([[ 1. , 20. ,  0. ],\n",
              "       [ 1. , 30. ,  5. ],\n",
              "       [ 1. , 25. ,  2. ],\n",
              "       [ 1. , 40. , 10. ],\n",
              "       [ 1. , 27. ,  4. ],\n",
              "       [ 1. , 28. ,  3.5],\n",
              "       [ 1. , 22. ,  1. ],\n",
              "       [ 1. , 24. ,  2. ],\n",
              "       [ 1. , 31. ,  6. ]])"
            ]
          },
          "metadata": {},
          "execution_count": 7
        }
      ]
    },
    {
      "cell_type": "code",
      "source": [
        "# step2 : label(target) matrx\n",
        "Y = np.c_[income]\n",
        "Y\n"
      ],
      "metadata": {
        "colab": {
          "base_uri": "https://localhost:8080/"
        },
        "id": "O0Cnh16E1B-w",
        "outputId": "9384c3a3-4fe6-45db-ed41-ff41b627e125"
      },
      "execution_count": null,
      "outputs": [
        {
          "output_type": "execute_result",
          "data": {
            "text/plain": [
              "array([[ 45. ],\n",
              "       [ 80. ],\n",
              "       [ 61. ],\n",
              "       [115. ],\n",
              "       [ 71. ],\n",
              "       [ 71.5],\n",
              "       [ 52. ],\n",
              "       [ 59. ],\n",
              "       [ 85. ]])"
            ]
          },
          "metadata": {},
          "execution_count": 8
        }
      ]
    },
    {
      "cell_type": "code",
      "source": [
        "# step3 : random weights.\n",
        "W = np.random.random((3, 1))\n",
        "W"
      ],
      "metadata": {
        "colab": {
          "base_uri": "https://localhost:8080/"
        },
        "id": "OPO4VffK1Ly4",
        "outputId": "d76afc15-b165-49f2-dbc3-228264699c5b"
      },
      "execution_count": null,
      "outputs": [
        {
          "output_type": "execute_result",
          "data": {
            "text/plain": [
              "array([[0.7971683 ],\n",
              "       [0.45533802],\n",
              "       [0.60509197]])"
            ]
          },
          "metadata": {},
          "execution_count": 9
        }
      ]
    },
    {
      "cell_type": "code",
      "source": [
        "# trial 1.\n",
        "# prediction\n",
        "ycap = X.dot(W)\n",
        "# loss\n",
        "mse = ((Y-ycap)**2).mean()\n",
        "# derivative\n",
        "delta = X.T.dot(Y-ycap)/len(age)\n",
        "\n",
        "# adjust\n",
        "W += delta * 0.02\n",
        "print(\"Current Loss \", mse)\n",
        "print(\" Latert Weights \" , W)"
      ],
      "metadata": {
        "colab": {
          "base_uri": "https://localhost:8080/"
        },
        "id": "NOCNcuG01kNO",
        "outputId": "202b4d52-3559-4215-a0b7-ceba80ef273a"
      },
      "execution_count": null,
      "outputs": [
        {
          "output_type": "stream",
          "name": "stdout",
          "text": [
            "Current Loss  3319.717859620023\n",
            " Latert Weights  [[ 1.90736032]\n",
            " [32.64480613]\n",
            " [ 5.61846174]]\n"
          ]
        }
      ]
    },
    {
      "cell_type": "code",
      "source": [
        "# trial 2.\n",
        "# prediction\n",
        "ycap = X.dot(W)\n",
        "# loss\n",
        "mse = ((Y-ycap)**2).mean()\n",
        "# derivative\n",
        "delta = X.T.dot(Y-ycap)/len(age)\n",
        "\n",
        "# adjust\n",
        "W += delta * 0.02\n",
        "print(\"Current Loss \", mse)\n",
        "print(\" Latert Weights \" , W)"
      ],
      "metadata": {
        "colab": {
          "base_uri": "https://localhost:8080/"
        },
        "id": "85MDhs6h2rVw",
        "outputId": "e27c0a5d-ce40-4608-b2d4-ca5a08102f74"
      },
      "execution_count": null,
      "outputs": [
        {
          "output_type": "stream",
          "name": "stdout",
          "text": [
            "Current Loss  750406.1603137616\n",
            " Latert Weights  [[ -15.0463104 ]\n",
            " [-452.55210686]\n",
            " [ -67.62662875]]\n"
          ]
        }
      ]
    },
    {
      "cell_type": "code",
      "source": [
        "np.std(age)"
      ],
      "metadata": {
        "colab": {
          "base_uri": "https://localhost:8080/"
        },
        "id": "dshCtPVA2uJn",
        "outputId": "c278545b-21ae-4b96-fcb8-cbcd78a114fb"
      },
      "execution_count": null,
      "outputs": [
        {
          "output_type": "execute_result",
          "data": {
            "text/plain": [
              "np.float64(5.579946457550986)"
            ]
          },
          "metadata": {},
          "execution_count": 12
        }
      ]
    },
    {
      "cell_type": "code",
      "source": [
        "np.std(exp)"
      ],
      "metadata": {
        "colab": {
          "base_uri": "https://localhost:8080/"
        },
        "id": "aDexStI32e4n",
        "outputId": "cad48323-2b72-49ab-81de-d81d546a8343"
      },
      "execution_count": null,
      "outputs": [
        {
          "output_type": "execute_result",
          "data": {
            "text/plain": [
              "np.float64(2.8588178511708016)"
            ]
          },
          "metadata": {},
          "execution_count": 13
        }
      ]
    },
    {
      "cell_type": "code",
      "source": [
        "np.std(income)"
      ],
      "metadata": {
        "colab": {
          "base_uri": "https://localhost:8080/"
        },
        "id": "3ye4VpYX3He9",
        "outputId": "ffc833df-83fd-42db-c46b-43d738e97304"
      },
      "execution_count": null,
      "outputs": [
        {
          "output_type": "execute_result",
          "data": {
            "text/plain": [
              "np.float64(19.703982175698567)"
            ]
          },
          "metadata": {},
          "execution_count": 14
        }
      ]
    },
    {
      "cell_type": "code",
      "source": [
        "\n",
        "def scale(c):\n",
        "  return    (c-c.mean())/c.std()"
      ],
      "metadata": {
        "id": "DlREdE6-3fnU"
      },
      "execution_count": null,
      "outputs": []
    },
    {
      "cell_type": "code",
      "source": [
        "scale(age)"
      ],
      "metadata": {
        "colab": {
          "base_uri": "https://localhost:8080/"
        },
        "id": "N9FCKuaA3tjK",
        "outputId": "e45d7b0b-28e8-440d-f8a5-c79acef41aa8"
      },
      "execution_count": null,
      "outputs": [
        {
          "output_type": "execute_result",
          "data": {
            "text/plain": [
              "array([-1.33414263,  0.45798926, -0.43807668,  2.25012115, -0.07965031,\n",
              "        0.09956288, -0.97571625, -0.61728987,  0.63720245])"
            ]
          },
          "metadata": {},
          "execution_count": 16
        }
      ]
    },
    {
      "cell_type": "code",
      "source": [
        "scale(age).std()"
      ],
      "metadata": {
        "colab": {
          "base_uri": "https://localhost:8080/"
        },
        "id": "mRgexOT23wbc",
        "outputId": "972a3763-6955-4f33-ebd0-4c8d448df695"
      },
      "execution_count": null,
      "outputs": [
        {
          "output_type": "execute_result",
          "data": {
            "text/plain": [
              "np.float64(1.0)"
            ]
          },
          "metadata": {},
          "execution_count": 17
        }
      ]
    },
    {
      "cell_type": "code",
      "source": [
        "scale(exp)\n"
      ],
      "metadata": {
        "colab": {
          "base_uri": "https://localhost:8080/"
        },
        "id": "DYVrunyD30tc",
        "outputId": "db59e160-5543-42a2-87e1-d170916aa179"
      },
      "execution_count": null,
      "outputs": [
        {
          "output_type": "execute_result",
          "data": {
            "text/plain": [
              "array([-1.30201447,  0.44696019, -0.60242461,  2.19593486,  0.09716526,\n",
              "       -0.07773221, -0.95221954, -0.60242461,  0.79675513])"
            ]
          },
          "metadata": {},
          "execution_count": 19
        }
      ]
    },
    {
      "cell_type": "code",
      "source": [
        "scale(exp).std()"
      ],
      "metadata": {
        "colab": {
          "base_uri": "https://localhost:8080/"
        },
        "id": "pW9Vsp2T35bE",
        "outputId": "352e4d53-eb0b-4647-87e5-9dbab4d93a01"
      },
      "execution_count": null,
      "outputs": [
        {
          "output_type": "execute_result",
          "data": {
            "text/plain": [
              "np.float64(1.0000000000000002)"
            ]
          },
          "metadata": {},
          "execution_count": 20
        }
      ]
    },
    {
      "cell_type": "code",
      "source": [
        "scale(income)"
      ],
      "metadata": {
        "colab": {
          "base_uri": "https://localhost:8080/"
        },
        "id": "hPPQMwhW38tH",
        "outputId": "630d064c-7149-4e04-8519-dce9d5f4b490"
      },
      "execution_count": null,
      "outputs": [
        {
          "output_type": "execute_result",
          "data": {
            "text/plain": [
              "array([-1.32234973,  0.45394095, -0.51033113,  2.23023164, -0.00281951,\n",
              "        0.02255607, -0.9670916 , -0.61183346,  0.70769677])"
            ]
          },
          "metadata": {},
          "execution_count": 21
        }
      ]
    },
    {
      "cell_type": "code",
      "source": [
        "scale(income).std()"
      ],
      "metadata": {
        "colab": {
          "base_uri": "https://localhost:8080/"
        },
        "id": "YEG9I5sW4ETT",
        "outputId": "fe092a3b-ea22-42e7-9197-097f1c29c010"
      },
      "execution_count": null,
      "outputs": [
        {
          "output_type": "execute_result",
          "data": {
            "text/plain": [
              "np.float64(1.0)"
            ]
          },
          "metadata": {},
          "execution_count": 22
        }
      ]
    },
    {
      "cell_type": "code",
      "source": [
        "X"
      ],
      "metadata": {
        "colab": {
          "base_uri": "https://localhost:8080/"
        },
        "id": "bbDyU3ST4Glp",
        "outputId": "7f065027-fb4a-4e1f-c0d0-6aec5e7ae9ab"
      },
      "execution_count": null,
      "outputs": [
        {
          "output_type": "execute_result",
          "data": {
            "text/plain": [
              "array([[ 1. , 20. ,  0. ],\n",
              "       [ 1. , 30. ,  5. ],\n",
              "       [ 1. , 25. ,  2. ],\n",
              "       [ 1. , 40. , 10. ],\n",
              "       [ 1. , 27. ,  4. ],\n",
              "       [ 1. , 28. ,  3.5],\n",
              "       [ 1. , 22. ,  1. ],\n",
              "       [ 1. , 24. ,  2. ],\n",
              "       [ 1. , 31. ,  6. ]])"
            ]
          },
          "metadata": {},
          "execution_count": 23
        }
      ]
    },
    {
      "cell_type": "code",
      "source": [
        "X_original = X.copy()"
      ],
      "metadata": {
        "id": "ZtnfglbE4R7c"
      },
      "execution_count": null,
      "outputs": []
    },
    {
      "cell_type": "code",
      "source": [
        "for i in range(X.shape[1]):\n",
        "   if i != 0:\n",
        "     X[:, i]= scale(X[:, i])"
      ],
      "metadata": {
        "id": "V04xj0w_4XTR"
      },
      "execution_count": null,
      "outputs": []
    },
    {
      "cell_type": "code",
      "source": [
        "X"
      ],
      "metadata": {
        "colab": {
          "base_uri": "https://localhost:8080/"
        },
        "id": "2S4wUS-Y49cr",
        "outputId": "ab8722ae-5edc-4655-d975-c05d90736316"
      },
      "execution_count": null,
      "outputs": [
        {
          "output_type": "execute_result",
          "data": {
            "text/plain": [
              "array([[ 1.        , -1.33414263, -1.30201447],\n",
              "       [ 1.        ,  0.45798926,  0.44696019],\n",
              "       [ 1.        , -0.43807668, -0.60242461],\n",
              "       [ 1.        ,  2.25012115,  2.19593486],\n",
              "       [ 1.        , -0.07965031,  0.09716526],\n",
              "       [ 1.        ,  0.09956288, -0.07773221],\n",
              "       [ 1.        , -0.97571625, -0.95221954],\n",
              "       [ 1.        , -0.61728987, -0.60242461],\n",
              "       [ 1.        ,  0.63720245,  0.79675513]])"
            ]
          },
          "metadata": {},
          "execution_count": 27
        }
      ]
    },
    {
      "cell_type": "code",
      "source": [
        "X[:, 1].std()"
      ],
      "metadata": {
        "colab": {
          "base_uri": "https://localhost:8080/"
        },
        "id": "9ddNiEdi4-qI",
        "outputId": "b0c71c27-d872-44d4-fc01-1b2fd53fa5f4"
      },
      "execution_count": null,
      "outputs": [
        {
          "output_type": "execute_result",
          "data": {
            "text/plain": [
              "np.float64(1.0)"
            ]
          },
          "metadata": {},
          "execution_count": 28
        }
      ]
    },
    {
      "cell_type": "code",
      "source": [
        "X[:, 2].std()"
      ],
      "metadata": {
        "colab": {
          "base_uri": "https://localhost:8080/"
        },
        "id": "hItasBfl5Fko",
        "outputId": "a39d9047-58c1-47ee-ec21-786933b72309"
      },
      "execution_count": null,
      "outputs": [
        {
          "output_type": "execute_result",
          "data": {
            "text/plain": [
              "np.float64(1.0000000000000002)"
            ]
          },
          "metadata": {},
          "execution_count": 29
        }
      ]
    },
    {
      "cell_type": "code",
      "source": [
        "Y_original = Y.copy()"
      ],
      "metadata": {
        "id": "LAPtdnUF5Kt7"
      },
      "execution_count": null,
      "outputs": []
    },
    {
      "cell_type": "code",
      "source": [
        "Y = scale(Y)\n",
        "Y"
      ],
      "metadata": {
        "colab": {
          "base_uri": "https://localhost:8080/"
        },
        "id": "tbnbu3Mi5OPH",
        "outputId": "c9a48639-abd2-49ee-db35-af489f10cead"
      },
      "execution_count": null,
      "outputs": [
        {
          "output_type": "execute_result",
          "data": {
            "text/plain": [
              "array([[-1.32234973],\n",
              "       [ 0.45394095],\n",
              "       [-0.51033113],\n",
              "       [ 2.23023164],\n",
              "       [-0.00281951],\n",
              "       [ 0.02255607],\n",
              "       [-0.9670916 ],\n",
              "       [-0.61183346],\n",
              "       [ 0.70769677]])"
            ]
          },
          "metadata": {},
          "execution_count": 31
        }
      ]
    },
    {
      "cell_type": "code",
      "source": [
        "Y.std()"
      ],
      "metadata": {
        "colab": {
          "base_uri": "https://localhost:8080/"
        },
        "id": "CigDVMZq5SVw",
        "outputId": "797b6c87-97c0-4f0f-cf57-c60072716342"
      },
      "execution_count": null,
      "outputs": [
        {
          "output_type": "execute_result",
          "data": {
            "text/plain": [
              "np.float64(1.0)"
            ]
          },
          "metadata": {},
          "execution_count": 32
        }
      ]
    },
    {
      "cell_type": "code",
      "source": [
        "# random weights.\n",
        "np.random.seed(101)\n",
        "W = np.random.random((3, 1)) * 2 - 1\n",
        "W"
      ],
      "metadata": {
        "colab": {
          "base_uri": "https://localhost:8080/"
        },
        "id": "WTiflo1g5U8M",
        "outputId": "57ce5e0d-8ec4-403c-cf7c-d656584015bd"
      },
      "execution_count": null,
      "outputs": [
        {
          "output_type": "execute_result",
          "data": {
            "text/plain": [
              "array([[ 0.03279726],\n",
              "       [ 0.14133517],\n",
              "       [-0.94305155]])"
            ]
          },
          "metadata": {},
          "execution_count": 38
        }
      ]
    },
    {
      "cell_type": "code",
      "source": [
        "# trial 1.\n",
        "ycap = X.dot(W)\n",
        "loss = ((Y-ycap)**2).mean()\n",
        "delta = X.T.dot(Y-ycap)/Y.size\n",
        "W += delta *0.02\n",
        "print(\" current Loss \", loss)"
      ],
      "metadata": {
        "colab": {
          "base_uri": "https://localhost:8080/"
        },
        "id": "ruSwINV75rQO",
        "outputId": "79a7919b-3716-4279-d7b7-e7db68459a49"
      },
      "execution_count": null,
      "outputs": [
        {
          "output_type": "stream",
          "name": "stdout",
          "text": [
            " current Loss  3.2453659375004267\n"
          ]
        }
      ]
    },
    {
      "cell_type": "code",
      "source": [
        "# trial 2.\n",
        "ycap = X.dot(W)\n",
        "loss = ((Y-ycap)**2).mean()\n",
        "delta = X.T.dot(Y-ycap)/Y.size\n",
        "W += delta *0.02\n",
        "print(\" current Loss \", loss)"
      ],
      "metadata": {
        "colab": {
          "base_uri": "https://localhost:8080/"
        },
        "id": "E0smwTkJ6IHj",
        "outputId": "53ea2210-f648-4a3e-f5f3-f12023841b32"
      },
      "execution_count": null,
      "outputs": [
        {
          "output_type": "stream",
          "name": "stdout",
          "text": [
            " current Loss  2.9920377238515714\n"
          ]
        }
      ]
    },
    {
      "cell_type": "code",
      "source": [
        "# trial 1.\n",
        "ycap = X.dot(W)\n",
        "loss = ((Y-ycap)**2).mean()\n",
        "delta = X.T.dot(Y-ycap)/Y.size\n",
        "W += delta *0.02\n",
        "print(\" current Loss \", loss)"
      ],
      "metadata": {
        "colab": {
          "base_uri": "https://localhost:8080/"
        },
        "id": "WtebUnQ76Okp",
        "outputId": "0a0c00ee-dceb-4404-d52b-7180e239577c"
      },
      "execution_count": null,
      "outputs": [
        {
          "output_type": "stream",
          "name": "stdout",
          "text": [
            " current Loss  2.7585038659152286\n"
          ]
        }
      ]
    },
    {
      "cell_type": "code",
      "source": [
        "W"
      ],
      "metadata": {
        "colab": {
          "base_uri": "https://localhost:8080/"
        },
        "id": "OOYLFgH06P0a",
        "outputId": "f00e78cd-a405-4280-bc5d-faf9363cc164"
      },
      "execution_count": null,
      "outputs": [
        {
          "output_type": "execute_result",
          "data": {
            "text/plain": [
              "array([[ 0.03086851],\n",
              "       [ 0.24474316],\n",
              "       [-0.83926221]])"
            ]
          },
          "metadata": {},
          "execution_count": 42
        }
      ]
    },
    {
      "cell_type": "code",
      "source": [],
      "metadata": {
        "id": "0qhVG3oG6aN0"
      },
      "execution_count": null,
      "outputs": []
    },
    {
      "cell_type": "code",
      "source": [],
      "metadata": {
        "id": "0RU3M-OC6LZG"
      },
      "execution_count": null,
      "outputs": []
    },
    {
      "cell_type": "code",
      "source": [],
      "metadata": {
        "id": "Jyt1IAxj5gmM"
      },
      "execution_count": null,
      "outputs": []
    }
  ]
}